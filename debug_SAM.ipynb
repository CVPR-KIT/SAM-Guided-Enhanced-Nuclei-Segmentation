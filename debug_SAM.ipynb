{
 "cells": [
  {
   "cell_type": "code",
   "execution_count": null,
   "metadata": {},
   "outputs": [],
   "source": [
    "import torch\n",
    "import cv2\n",
    "import matplotlib.pyplot as plt\n",
    "from auxiliary.utils import readJson\n",
    "import tqdm as notebook_tqdm\n",
    "import numpy as np\n",
    "from sklearn.decomposition import PCA\n",
    "\n",
    "from segment_anything.segment_anything import SamPredictor, sam_model_registry"
   ]
  },
  {
   "cell_type": "code",
   "execution_count": null,
   "metadata": {},
   "outputs": [],
   "source": [
    "img_rgb = cv2.imread('data/trainNormal/0.png')\n",
    "img_lab = cv2.cvtColor(img_rgb, cv2.COLOR_BGR2LAB)"
   ]
  },
  {
   "cell_type": "code",
   "execution_count": null,
   "metadata": {},
   "outputs": [],
   "source": [
    "\n",
    "#show both images side by side\n",
    "fig, axes = plt.subplots(1, 2, figsize=(10, 5))\n",
    "axes[0].imshow(img_rgb)\n",
    "axes[0].set_title('RGB')\n",
    "axes[0].axis('off')\n",
    "axes[1].imshow(img_lab)\n",
    "axes[1].set_title('LAB')\n",
    "axes[1].axis('off')\n",
    "plt.show()"
   ]
  },
  {
   "cell_type": "code",
   "execution_count": null,
   "metadata": {},
   "outputs": [],
   "source": [
    "# showing only L, A, B channel separately in 3 subplots\n",
    "img_l = img_lab[:,:,0]\n",
    "img_a = img_lab[:,:,1]\n",
    "img_b = img_lab[:,:,2] * 3\n",
    "\n",
    "fig, axes = plt.subplots(1, 3, figsize=(15, 5))\n",
    "axes[0].imshow(img_l )\n",
    "axes[0].set_title('L channel')\n",
    "axes[0].axis('off')\n",
    "axes[1].imshow(img_a)\n",
    "axes[1].set_title('A channel')\n",
    "axes[1].axis('off')\n",
    "axes[2].imshow(img_b)\n",
    "axes[2].set_title('B channel')\n",
    "axes[2].axis('off')\n",
    "plt.show()"
   ]
  },
  {
   "cell_type": "code",
   "execution_count": null,
   "metadata": {},
   "outputs": [],
   "source": [
    "# Load SAM\n",
    "samWeight = \"segment_anything/SAMWeights/sam_vit_b_01ec64.pth\"\n",
    "sam = sam_model_registry[\"vit_b\"](checkpoint=samWeight)\n",
    "predictor = SamPredictor(sam)"
   ]
  },
  {
   "cell_type": "code",
   "execution_count": null,
   "metadata": {},
   "outputs": [],
   "source": [
    "# multiply the B channel by 3 to make it more visible\n",
    "img_lab_enhanced = img_lab[:,:,2] * 3\n",
    "images = (img_rgb, img_lab)\n",
    "embeddings = []\n",
    "for idx, img in enumerate (images):\n",
    "    print(img.shape)\n",
    "    #img = torch.tensor(img).permute(2, 0, 1).unsqueeze(0)\n",
    "    with torch.no_grad():\n",
    "        predictor.set_image(img)\n",
    "        embedding = predictor.features\n",
    "        embeddings.append(embedding)"
   ]
  },
  {
   "cell_type": "code",
   "execution_count": null,
   "metadata": {},
   "outputs": [],
   "source": [
    "embeddings[0].shape, embeddings[1].shape"
   ]
  },
  {
   "cell_type": "code",
   "execution_count": null,
   "metadata": {},
   "outputs": [],
   "source": [
    "pca = PCA(n_components=3)\n",
    "pca_images = []\n",
    "for emb in embeddings:\n",
    "    emb = emb.squeeze(0)\n",
    "    emb_reshaped = emb.view(emb.shape[0], -1).T.cpu().numpy()\n",
    "    sam_pca = pca.fit_transform(emb_reshaped)\n",
    "    sam_pca = sam_pca.reshape(emb.shape[-1], emb.shape[-2], 3)\n",
    "    pca_images.append(sam_pca)\n",
    "    "
   ]
  },
  {
   "cell_type": "code",
   "execution_count": null,
   "metadata": {},
   "outputs": [],
   "source": [
    "# plot PCA images in 2 subplots\n",
    "fig, axes = plt.subplots(1, 2, figsize=(10, 5))\n",
    "axes[0].imshow(pca_images[0])\n",
    "axes[0].set_title('RGB PCA')\n",
    "axes[0].axis('off')\n",
    "axes[1].imshow(pca_images[1])\n",
    "axes[1].set_title('LAB PCA')\n",
    "axes[1].axis('off')\n",
    "plt.show()\n"
   ]
  }
 ],
 "metadata": {
  "language_info": {
   "name": "python"
  }
 },
 "nbformat": 4,
 "nbformat_minor": 2
}

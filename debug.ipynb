{
 "cells": [
  {
   "cell_type": "code",
   "execution_count": 1,
   "metadata": {},
   "outputs": [],
   "source": [
    "from torch.utils.data import DataLoader\n",
    "import os\n",
    "import torch\n",
    "import sys\n",
    "\n",
    "from tqdm import tqdm\n",
    "import numpy as np\n",
    "from sklearn.decomposition import PCA\n",
    "\n",
    "from auxilary.utils import *\n",
    "from dataset import nucleiDataset, nucleiValDataset, nucleiTestDataset\n",
    "from networkModules.modelUnet3p import UNet_3Plus\n",
    "from auxilary.lossFunctions import *\n"
   ]
  },
  {
   "cell_type": "code",
   "execution_count": 2,
   "metadata": {},
   "outputs": [],
   "source": [
    "config = readConfig('configs/config_cryonuseg.sys')"
   ]
  },
  {
   "cell_type": "code",
   "execution_count": 3,
   "metadata": {},
   "outputs": [],
   "source": [
    "#trainPaths = config[\"trainDataset\"]\n",
    "trainPaths = \"/mnt/Datasets/MoNuSeg/Training/sampleImages/\"\n",
    "valPaths = config[\"valDataset\"]\n",
    "testPaths = config[\"testDataset\"]\n",
    "train_dataset = nucleiDataset(trainPaths, config)\n",
    "val_dataset = nucleiValDataset(valPaths, config)\n",
    "test_dataset = nucleiTestDataset(testPaths, config)\n",
    "trainLoader = DataLoader(train_dataset, batch_size=config[\"batch_size\"], shuffle=False)\n",
    "val_data = DataLoader(val_dataset,batch_size=1,num_workers=4)\n",
    "test_data = DataLoader(test_dataset,batch_size=1)"
   ]
  },
  {
   "cell_type": "code",
   "execution_count": 4,
   "metadata": {},
   "outputs": [],
   "source": [
    "model = UNet_3Plus(config)\n",
    "device = torch.device(\"cuda:0\" if torch.cuda.is_available() else \"cpu\")\n",
    "model.to(device)\n",
    "\n",
    "criterion = weightedDiceLoss()\n",
    "optimizer = torch.optim.Adam(model.parameters(),lr=config[\"learning_rate\"], weight_decay=1e-5)"
   ]
  },
  {
   "cell_type": "code",
   "execution_count": null,
   "metadata": {},
   "outputs": [],
   "source": []
  },
  {
   "cell_type": "code",
   "execution_count": 5,
   "metadata": {},
   "outputs": [
    {
     "name": "stderr",
     "output_type": "stream",
     "text": [
      "  0%|          | 0/2 [00:00<?, ?it/s]"
     ]
    },
    {
     "name": "stdout",
     "output_type": "stream",
     "text": [
      "Image shape: torch.Size([16, 3, 256, 256])\n",
      "Mask shape: torch.Size([16, 2, 256, 256])\n",
      "Samencoding shape: torch.Size([16, 256, 64, 64])\n"
     ]
    },
    {
     "name": "stderr",
     "output_type": "stream",
     "text": [
      "  0%|          | 0/2 [00:00<?, ?it/s]\n"
     ]
    },
    {
     "ename": "SystemExit",
     "evalue": "0",
     "output_type": "error",
     "traceback": [
      "An exception has occurred, use %tb to see the full traceback.\n",
      "\u001b[0;31mSystemExit\u001b[0m\u001b[0;31m:\u001b[0m 0\n"
     ]
    },
    {
     "name": "stderr",
     "output_type": "stream",
     "text": [
      "/home/bishal/projects/SAM-Guided-U-Net/samGEnv/lib/python3.10/site-packages/IPython/core/interactiveshell.py:3561: UserWarning: To exit: use 'exit', 'quit', or Ctrl-D.\n",
      "  warn(\"To exit: use 'exit', 'quit', or Ctrl-D.\", stacklevel=1)\n"
     ]
    }
   ],
   "source": [
    "epochs = 1\n",
    "for epoch in range(epochs):\n",
    "    for batch in tqdm(trainLoader):\n",
    "        \n",
    "        image, mask, samencoding = batch\n",
    "\n",
    "        print(f\"Image shape: {image.shape}\")\n",
    "        print(f\"Mask shape: {mask.shape}\")\n",
    "        print(f\"Samencoding shape: {samencoding.shape}\")\n",
    "\n",
    "        \n",
    "        gt = mask.squeeze().float()\n",
    "\n",
    "        gt = gt.type(torch.float32)\n",
    "\n",
    "        outputs = model((image.to(device), samencoding.to(device)))\n",
    "\n",
    "        sys.exit(0)\n",
    "        \n",
    "        loss = criterion(outputs, gt.to(device))\n",
    "\n",
    "        optimizer.zero_grad()\n",
    "        loss.backward()\n",
    "        \n",
    "        optimizer.step()\n",
    "\n",
    "        #print(f\"Loss: {loss.item()}\")\n",
    "\n",
    "\n",
    "        pass\n",
    "\n",
    "    print(f\"Epoch {epoch+1}/{epochs} completed.\")"
   ]
  },
  {
   "cell_type": "code",
   "execution_count": null,
   "metadata": {},
   "outputs": [
    {
     "name": "stdout",
     "output_type": "stream",
     "text": [
      "torch.Size([1, 256, 64, 64])\n"
     ]
    }
   ],
   "source": []
  },
  {
   "cell_type": "code",
   "execution_count": null,
   "metadata": {},
   "outputs": [],
   "source": []
  }
 ],
 "metadata": {
  "kernelspec": {
   "display_name": "samGEnv",
   "language": "python",
   "name": "python3"
  },
  "language_info": {
   "codemirror_mode": {
    "name": "ipython",
    "version": 3
   },
   "file_extension": ".py",
   "mimetype": "text/x-python",
   "name": "python",
   "nbconvert_exporter": "python",
   "pygments_lexer": "ipython3",
   "version": "3.10.12"
  }
 },
 "nbformat": 4,
 "nbformat_minor": 2
}
